{
  "nbformat": 4,
  "nbformat_minor": 0,
  "metadata": {
    "colab": {
      "provenance": [],
      "authorship_tag": "ABX9TyNza+x/IwBIA4KzbuwdwzbL",
      "include_colab_link": true
    },
    "kernelspec": {
      "name": "python3",
      "display_name": "Python 3"
    },
    "language_info": {
      "name": "python"
    }
  },
  "cells": [
    {
      "cell_type": "markdown",
      "metadata": {
        "id": "view-in-github",
        "colab_type": "text"
      },
      "source": [
        "<a href=\"https://colab.research.google.com/github/AllerLydia/Deep-Learning/blob/master/02_nn_classification_pytorch.ipynb\" target=\"_parent\"><img src=\"https://colab.research.google.com/assets/colab-badge.svg\" alt=\"Open In Colab\"/></a>"
      ]
    },
    {
      "cell_type": "code",
      "execution_count": 1,
      "metadata": {
        "id": "ObnSDQJe2QLg"
      },
      "outputs": [],
      "source": [
        "from sklearn.datasets import make_circles\n"
      ]
    },
    {
      "cell_type": "code",
      "source": [
        "n_sample = 1000\n",
        "X, y = make_circles(n_sample,\n",
        "                    noise = 0.02,\n",
        "                    random_state=42)"
      ],
      "metadata": {
        "id": "KKkwKfbi5X59"
      },
      "execution_count": 2,
      "outputs": []
    },
    {
      "cell_type": "code",
      "source": [
        "X[:5], y[:5]"
      ],
      "metadata": {
        "colab": {
          "base_uri": "https://localhost:8080/"
        },
        "id": "nVo5VLw25kY8",
        "outputId": "e4f14977-9d43-4960-8f40-d90ee7ada2e5"
      },
      "execution_count": 3,
      "outputs": [
        {
          "output_type": "execute_result",
          "data": {
            "text/plain": [
              "(array([[ 0.76026594,  0.22387823],\n",
              "        [-0.76722217,  0.1455425 ],\n",
              "        [-0.80815854,  0.14894355],\n",
              "        [-0.3760283 ,  0.70320906],\n",
              "        [ 0.44051035, -0.89761737]]), array([1, 1, 1, 1, 0]))"
            ]
          },
          "metadata": {},
          "execution_count": 3
        }
      ]
    },
    {
      "cell_type": "code",
      "source": [
        "import pandas as pd\n",
        "circles = pd.DataFrame({\"X1\": X[:, 0], \n",
        "                        \"X2\": X[:, 1],\n",
        "                        \"label\": y})\n",
        "\n",
        "circles.head()"
      ],
      "metadata": {
        "colab": {
          "base_uri": "https://localhost:8080/",
          "height": 204
        },
        "id": "jrzzm11U5m4H",
        "outputId": "f4f25c47-d820-4c71-e16d-49c422b06f24"
      },
      "execution_count": 4,
      "outputs": [
        {
          "output_type": "execute_result",
          "data": {
            "text/plain": [
              "         X1        X2  label\n",
              "0  0.760266  0.223878      1\n",
              "1 -0.767222  0.145542      1\n",
              "2 -0.808159  0.148944      1\n",
              "3 -0.376028  0.703209      1\n",
              "4  0.440510 -0.897617      0"
            ],
            "text/html": [
              "\n",
              "  <div id=\"df-e91076da-9960-45cc-ad3b-74f7fe66e20d\">\n",
              "    <div class=\"colab-df-container\">\n",
              "      <div>\n",
              "<style scoped>\n",
              "    .dataframe tbody tr th:only-of-type {\n",
              "        vertical-align: middle;\n",
              "    }\n",
              "\n",
              "    .dataframe tbody tr th {\n",
              "        vertical-align: top;\n",
              "    }\n",
              "\n",
              "    .dataframe thead th {\n",
              "        text-align: right;\n",
              "    }\n",
              "</style>\n",
              "<table border=\"1\" class=\"dataframe\">\n",
              "  <thead>\n",
              "    <tr style=\"text-align: right;\">\n",
              "      <th></th>\n",
              "      <th>X1</th>\n",
              "      <th>X2</th>\n",
              "      <th>label</th>\n",
              "    </tr>\n",
              "  </thead>\n",
              "  <tbody>\n",
              "    <tr>\n",
              "      <th>0</th>\n",
              "      <td>0.760266</td>\n",
              "      <td>0.223878</td>\n",
              "      <td>1</td>\n",
              "    </tr>\n",
              "    <tr>\n",
              "      <th>1</th>\n",
              "      <td>-0.767222</td>\n",
              "      <td>0.145542</td>\n",
              "      <td>1</td>\n",
              "    </tr>\n",
              "    <tr>\n",
              "      <th>2</th>\n",
              "      <td>-0.808159</td>\n",
              "      <td>0.148944</td>\n",
              "      <td>1</td>\n",
              "    </tr>\n",
              "    <tr>\n",
              "      <th>3</th>\n",
              "      <td>-0.376028</td>\n",
              "      <td>0.703209</td>\n",
              "      <td>1</td>\n",
              "    </tr>\n",
              "    <tr>\n",
              "      <th>4</th>\n",
              "      <td>0.440510</td>\n",
              "      <td>-0.897617</td>\n",
              "      <td>0</td>\n",
              "    </tr>\n",
              "  </tbody>\n",
              "</table>\n",
              "</div>\n",
              "      <button class=\"colab-df-convert\" onclick=\"convertToInteractive('df-e91076da-9960-45cc-ad3b-74f7fe66e20d')\"\n",
              "              title=\"Convert this dataframe to an interactive table.\"\n",
              "              style=\"display:none;\">\n",
              "        \n",
              "  <svg xmlns=\"http://www.w3.org/2000/svg\" height=\"24px\"viewBox=\"0 0 24 24\"\n",
              "       width=\"24px\">\n",
              "    <path d=\"M0 0h24v24H0V0z\" fill=\"none\"/>\n",
              "    <path d=\"M18.56 5.44l.94 2.06.94-2.06 2.06-.94-2.06-.94-.94-2.06-.94 2.06-2.06.94zm-11 1L8.5 8.5l.94-2.06 2.06-.94-2.06-.94L8.5 2.5l-.94 2.06-2.06.94zm10 10l.94 2.06.94-2.06 2.06-.94-2.06-.94-.94-2.06-.94 2.06-2.06.94z\"/><path d=\"M17.41 7.96l-1.37-1.37c-.4-.4-.92-.59-1.43-.59-.52 0-1.04.2-1.43.59L10.3 9.45l-7.72 7.72c-.78.78-.78 2.05 0 2.83L4 21.41c.39.39.9.59 1.41.59.51 0 1.02-.2 1.41-.59l7.78-7.78 2.81-2.81c.8-.78.8-2.07 0-2.86zM5.41 20L4 18.59l7.72-7.72 1.47 1.35L5.41 20z\"/>\n",
              "  </svg>\n",
              "      </button>\n",
              "      \n",
              "  <style>\n",
              "    .colab-df-container {\n",
              "      display:flex;\n",
              "      flex-wrap:wrap;\n",
              "      gap: 12px;\n",
              "    }\n",
              "\n",
              "    .colab-df-convert {\n",
              "      background-color: #E8F0FE;\n",
              "      border: none;\n",
              "      border-radius: 50%;\n",
              "      cursor: pointer;\n",
              "      display: none;\n",
              "      fill: #1967D2;\n",
              "      height: 32px;\n",
              "      padding: 0 0 0 0;\n",
              "      width: 32px;\n",
              "    }\n",
              "\n",
              "    .colab-df-convert:hover {\n",
              "      background-color: #E2EBFA;\n",
              "      box-shadow: 0px 1px 2px rgba(60, 64, 67, 0.3), 0px 1px 3px 1px rgba(60, 64, 67, 0.15);\n",
              "      fill: #174EA6;\n",
              "    }\n",
              "\n",
              "    [theme=dark] .colab-df-convert {\n",
              "      background-color: #3B4455;\n",
              "      fill: #D2E3FC;\n",
              "    }\n",
              "\n",
              "    [theme=dark] .colab-df-convert:hover {\n",
              "      background-color: #434B5C;\n",
              "      box-shadow: 0px 1px 3px 1px rgba(0, 0, 0, 0.15);\n",
              "      filter: drop-shadow(0px 1px 2px rgba(0, 0, 0, 0.3));\n",
              "      fill: #FFFFFF;\n",
              "    }\n",
              "  </style>\n",
              "\n",
              "      <script>\n",
              "        const buttonEl =\n",
              "          document.querySelector('#df-e91076da-9960-45cc-ad3b-74f7fe66e20d button.colab-df-convert');\n",
              "        buttonEl.style.display =\n",
              "          google.colab.kernel.accessAllowed ? 'block' : 'none';\n",
              "\n",
              "        async function convertToInteractive(key) {\n",
              "          const element = document.querySelector('#df-e91076da-9960-45cc-ad3b-74f7fe66e20d');\n",
              "          const dataTable =\n",
              "            await google.colab.kernel.invokeFunction('convertToInteractive',\n",
              "                                                     [key], {});\n",
              "          if (!dataTable) return;\n",
              "\n",
              "          const docLinkHtml = 'Like what you see? Visit the ' +\n",
              "            '<a target=\"_blank\" href=https://colab.research.google.com/notebooks/data_table.ipynb>data table notebook</a>'\n",
              "            + ' to learn more about interactive tables.';\n",
              "          element.innerHTML = '';\n",
              "          dataTable['output_type'] = 'display_data';\n",
              "          await google.colab.output.renderOutput(dataTable, element);\n",
              "          const docLink = document.createElement('div');\n",
              "          docLink.innerHTML = docLinkHtml;\n",
              "          element.appendChild(docLink);\n",
              "        }\n",
              "      </script>\n",
              "    </div>\n",
              "  </div>\n",
              "  "
            ]
          },
          "metadata": {},
          "execution_count": 4
        }
      ]
    },
    {
      "cell_type": "code",
      "source": [
        "import matplotlib.pyplot as plt\n",
        "plt.scatter(x=X[:,0],\n",
        "            y=X[:,1],\n",
        "            c=y,\n",
        "            cmap = plt.cm.RdYlBu)"
      ],
      "metadata": {
        "colab": {
          "base_uri": "https://localhost:8080/",
          "height": 282
        },
        "id": "GDPEKfGy6FUm",
        "outputId": "1d76e1f9-5c1d-46f3-f04f-a5d32242d066"
      },
      "execution_count": 5,
      "outputs": [
        {
          "output_type": "execute_result",
          "data": {
            "text/plain": [
              "<matplotlib.collections.PathCollection at 0x7fed4422d670>"
            ]
          },
          "metadata": {},
          "execution_count": 5
        },
        {
          "output_type": "display_data",
          "data": {
            "text/plain": [
              "<Figure size 432x288 with 1 Axes>"
            ],
            "image/png": "[encoded data removed]"
          },
          "metadata": {
            "needs_background": "light"
          }
        }
      ]
    },
    {
      "cell_type": "code",
      "source": [],
      "metadata": {
        "id": "RgOhdENi61n6"
      },
      "execution_count": 5,
      "outputs": []
    },
    {
      "cell_type": "code",
      "source": [
        "X.shape, y.shape"
      ],
      "metadata": {
        "colab": {
          "base_uri": "https://localhost:8080/"
        },
        "id": "TYgB3W3v7KGe",
        "outputId": "c8c623dd-b90b-40d9-9bff-9cff40b24bda"
      },
      "execution_count": 6,
      "outputs": [
        {
          "output_type": "execute_result",
          "data": {
            "text/plain": [
              "((1000, 2), (1000,))"
            ]
          },
          "metadata": {},
          "execution_count": 6
        }
      ]
    },
    {
      "cell_type": "code",
      "source": [
        "X_sample = X[0]\n",
        "y_sample = y[0]"
      ],
      "metadata": {
        "id": "k-zTJQaT7KI-"
      },
      "execution_count": 7,
      "outputs": []
    },
    {
      "cell_type": "code",
      "source": [
        "X_sample, y_sample"
      ],
      "metadata": {
        "colab": {
          "base_uri": "https://localhost:8080/"
        },
        "id": "qGtmk9bQ7KLn",
        "outputId": "8969fd83-eee0-4531-8e2e-234b48332405"
      },
      "execution_count": 8,
      "outputs": [
        {
          "output_type": "execute_result",
          "data": {
            "text/plain": [
              "(array([0.76026594, 0.22387823]), 1)"
            ]
          },
          "metadata": {},
          "execution_count": 8
        }
      ]
    },
    {
      "cell_type": "code",
      "source": [
        "import torch\n",
        "x = torch.from_numpy(X).type(torch.float)\n",
        "y = torch.from_numpy(y).type(torch.float)"
      ],
      "metadata": {
        "id": "aPF-ddEH7KO_"
      },
      "execution_count": 9,
      "outputs": []
    },
    {
      "cell_type": "code",
      "source": [
        "x[:5], y[:5]"
      ],
      "metadata": {
        "colab": {
          "base_uri": "https://localhost:8080/"
        },
        "id": "oQdayHdu7K8s",
        "outputId": "e44ddd91-7e3f-4a11-d15d-1e8393cb2532"
      },
      "execution_count": 10,
      "outputs": [
        {
          "output_type": "execute_result",
          "data": {
            "text/plain": [
              "(tensor([[ 0.7603,  0.2239],\n",
              "         [-0.7672,  0.1455],\n",
              "         [-0.8082,  0.1489],\n",
              "         [-0.3760,  0.7032],\n",
              "         [ 0.4405, -0.8976]]), tensor([1., 1., 1., 1., 0.]))"
            ]
          },
          "metadata": {},
          "execution_count": 10
        }
      ]
    },
    {
      "cell_type": "code",
      "source": [
        "from sklearn.model_selection import train_test_split\n",
        "x_train, x_test, y_train, y_test = train_test_split(x, y, \n",
        "                                                    test_size = 0.2,\n",
        "                                                    random_state=42)"
      ],
      "metadata": {
        "id": "fSxEJz3B7K_M"
      },
      "execution_count": 11,
      "outputs": []
    },
    {
      "cell_type": "code",
      "source": [
        "len(x_train), len(x_test), len(y_train), len(y_test)"
      ],
      "metadata": {
        "colab": {
          "base_uri": "https://localhost:8080/"
        },
        "id": "SZzM5Gyi7LBg",
        "outputId": "dc7990c4-de5c-4011-efcc-84e5809ea2f3"
      },
      "execution_count": 12,
      "outputs": [
        {
          "output_type": "execute_result",
          "data": {
            "text/plain": [
              "(800, 200, 800, 200)"
            ]
          },
          "metadata": {},
          "execution_count": 12
        }
      ]
    },
    {
      "cell_type": "code",
      "source": [
        "device = \"cuda\" if torch.cuda.is_available() else \"cpu\""
      ],
      "metadata": {
        "id": "dbtFAVt17LFO"
      },
      "execution_count": 13,
      "outputs": []
    },
    {
      "cell_type": "code",
      "source": [
        "import torch\n",
        "from torch import nn"
      ],
      "metadata": {
        "id": "Uzr_HjI2BTai"
      },
      "execution_count": 14,
      "outputs": []
    },
    {
      "cell_type": "code",
      "source": [
        "class CircleModelv1(nn.Module):\n",
        "  def __init__(self):\n",
        "    super().__init__()\n",
        "\n",
        "    self.layer_1 = nn.Linear(in_features=2, out_features=5)\n",
        "    self.layer_2 = nn.Linear(in_features = 5, out_features = 1)\n",
        "\n",
        "  def forward(self, x):\n",
        "    return self.layer_2(self.layer_1(x))\n",
        "\n",
        "\n",
        "model_0 = CircleModelv1().to(device)"
      ],
      "metadata": {
        "id": "WFDtVM4FBner"
      },
      "execution_count": 15,
      "outputs": []
    },
    {
      "cell_type": "code",
      "source": [
        "next(model_0.parameters()).device"
      ],
      "metadata": {
        "colab": {
          "base_uri": "https://localhost:8080/"
        },
        "id": "3Im1pLC9BniL",
        "outputId": "4b783987-de6d-4fbb-a170-acdd54083f77"
      },
      "execution_count": 16,
      "outputs": [
        {
          "output_type": "execute_result",
          "data": {
            "text/plain": [
              "device(type='cpu')"
            ]
          },
          "metadata": {},
          "execution_count": 16
        }
      ]
    },
    {
      "cell_type": "code",
      "source": [],
      "metadata": {
        "id": "gwTb7RtYBnlG"
      },
      "execution_count": 16,
      "outputs": []
    },
    {
      "cell_type": "code",
      "source": [
        "#repulicate with nn.sequencial\n",
        "\n",
        "model_1 = nn.Sequential(\n",
        "    nn.Linear(in_features = 2, out_features = 5),\n",
        "    nn.Linear(in_features = 5, out_features = 1)\n",
        ").to(device)\n",
        "\n",
        "model_1"
      ],
      "metadata": {
        "colab": {
          "base_uri": "https://localhost:8080/"
        },
        "id": "A7Q9yxuRBnpH",
        "outputId": "d387d2c6-2e73-4137-cd34-f89d2c29dfd7"
      },
      "execution_count": 17,
      "outputs": [
        {
          "output_type": "execute_result",
          "data": {
            "text/plain": [
              "Sequential(\n",
              "  (0): Linear(in_features=2, out_features=5, bias=True)\n",
              "  (1): Linear(in_features=5, out_features=1, bias=True)\n",
              ")"
            ]
          },
          "metadata": {},
          "execution_count": 17
        }
      ]
    },
    {
      "cell_type": "code",
      "source": [
        "model_0.state_dict()"
      ],
      "metadata": {
        "colab": {
          "base_uri": "https://localhost:8080/"
        },
        "id": "aKIHUGRkBTdr",
        "outputId": "42786b8f-1441-44c8-a9ee-7dcd1f816a59"
      },
      "execution_count": 18,
      "outputs": [
        {
          "output_type": "execute_result",
          "data": {
            "text/plain": [
              "OrderedDict([('layer_1.weight', tensor([[-2.5802e-04, -1.6886e-01],\n",
              "                      [ 4.2006e-01,  5.1963e-01],\n",
              "                      [-2.0112e-01,  6.3954e-01],\n",
              "                      [ 4.8408e-01, -1.9998e-01],\n",
              "                      [-7.3147e-02,  4.3178e-01]])),\n",
              "             ('layer_1.bias',\n",
              "              tensor([ 0.1741, -0.0852,  0.0918, -0.6210,  0.1046])),\n",
              "             ('layer_2.weight',\n",
              "              tensor([[-0.2563,  0.3504, -0.3584, -0.3256,  0.0745]])),\n",
              "             ('layer_2.bias', tensor([-0.0311]))])"
            ]
          },
          "metadata": {},
          "execution_count": 18
        }
      ]
    },
    {
      "cell_type": "code",
      "source": [],
      "metadata": {
        "id": "DibNuCQoBThh"
      },
      "execution_count": 18,
      "outputs": []
    },
    {
      "cell_type": "code",
      "source": [
        "with torch.inference_mode():\n",
        "  untrained_preds = model_0(x_test.to(device))\n",
        "len(untrained_preds), untrained_preds.shape"
      ],
      "metadata": {
        "colab": {
          "base_uri": "https://localhost:8080/"
        },
        "id": "ZeOkMYtjFoXy",
        "outputId": "e763ea0b-152f-4c26-b11c-e635a06d1249"
      },
      "execution_count": 19,
      "outputs": [
        {
          "output_type": "execute_result",
          "data": {
            "text/plain": [
              "(200, torch.Size([200, 1]))"
            ]
          },
          "metadata": {},
          "execution_count": 19
        }
      ]
    },
    {
      "cell_type": "code",
      "source": [
        "untrained_preds[:10]"
      ],
      "metadata": {
        "colab": {
          "base_uri": "https://localhost:8080/"
        },
        "id": "1YCiT3nKFpQq",
        "outputId": "476c236d-24d8-4181-a49a-08a45bab31d3"
      },
      "execution_count": 20,
      "outputs": [
        {
          "output_type": "execute_result",
          "data": {
            "text/plain": [
              "tensor([[0.1143],\n",
              "        [0.1621],\n",
              "        [0.0017],\n",
              "        [0.1442],\n",
              "        [0.0274],\n",
              "        [0.0554],\n",
              "        [0.1711],\n",
              "        [0.1454],\n",
              "        [0.0039],\n",
              "        [0.1665]])"
            ]
          },
          "metadata": {},
          "execution_count": 20
        }
      ]
    },
    {
      "cell_type": "code",
      "source": [],
      "metadata": {
        "id": "4HakrKLHFpUF"
      },
      "execution_count": 20,
      "outputs": []
    },
    {
      "cell_type": "code",
      "source": [
        "loss_fn = nn.BCEWithLogitsLoss()\n",
        "optimizer = torch.optim.SGD(params = model_0.parameters(), \n",
        "                            lr = 0.1)"
      ],
      "metadata": {
        "id": "28FjmCJjFpXK"
      },
      "execution_count": 21,
      "outputs": []
    },
    {
      "cell_type": "code",
      "source": [
        "def accuracy_fn(y_true, y_pred):\n",
        "  correct = torch.eq(y_true, y_pred).sum().item()\n",
        "  acc = (correct / len(y_pred))* 100\n",
        "  return acc"
      ],
      "metadata": {
        "id": "MOMR8jI-BTkV"
      },
      "execution_count": 22,
      "outputs": []
    },
    {
      "cell_type": "code",
      "source": [],
      "metadata": {
        "id": "v4Am1cL0BToJ"
      },
      "execution_count": 22,
      "outputs": []
    },
    {
      "cell_type": "code",
      "source": [
        "torch.manual_seed=42\n",
        "epochs = 100\n",
        "\n",
        "for epoch in range(epochs):\n",
        "  model_0.train()\n",
        "\n",
        "  y_logits = model_0(x_train).squeeze()\n",
        "  y_pred = torch.round(torch.sigmoid(y_logits))\n",
        "\n",
        "  loss = loss_fn(y_logits, \n",
        "                 y_train)\n",
        "  \n",
        "  acc = accuracy_fn(y_true = y_train,\n",
        "                    y_pred = y_pred)\n",
        "  \n",
        "  optimizer.zero_grad()\n",
        "\n",
        "  loss.backward()\n",
        "  optimizer.step()\n",
        "\n",
        "  model_0.eval()\n",
        "  with torch.inference_mode():\n",
        "    test_logits = model_0(x_test).squeeze()\n",
        "    test_pred = torch.round(torch.sigmoid(test_logits))\n",
        "\n",
        "    test_loss = loss_fn(test_logits,\n",
        "                        y_test)\n",
        "    \n",
        "    test_acc = accuracy_fn(y_test, \n",
        "                           test_pred)\n",
        "  \n",
        "  if epochs & 10 == 0:\n",
        "    print(f\"Epoch: {epoch} |loss: {loss:.5f} | Acc: {acc:.2f}\")"
      ],
      "metadata": {
        "colab": {
          "base_uri": "https://localhost:8080/"
        },
        "id": "BsHKThzHJL4u",
        "outputId": "d235f992-9928-4068-da13-c07d73f6da4c"
      },
      "execution_count": 23,
      "outputs": [
        {
          "output_type": "stream",
          "name": "stdout",
          "text": [
            "Epoch: 0 |loss: 0.69373 | Acc: 54.75\n",
            "Epoch: 1 |loss: 0.69367 | Acc: 54.50\n",
            "Epoch: 2 |loss: 0.69362 | Acc: 54.12\n",
            "Epoch: 3 |loss: 0.69357 | Acc: 54.12\n",
            "Epoch: 4 |loss: 0.69353 | Acc: 53.50\n",
            "Epoch: 5 |loss: 0.69349 | Acc: 53.87\n",
            "Epoch: 6 |loss: 0.69345 | Acc: 53.62\n",
            "Epoch: 7 |loss: 0.69342 | Acc: 53.37\n",
            "Epoch: 8 |loss: 0.69339 | Acc: 53.12\n",
            "Epoch: 9 |loss: 0.69336 | Acc: 52.88\n",
            "Epoch: 10 |loss: 0.69334 | Acc: 52.88\n",
            "Epoch: 11 |loss: 0.69332 | Acc: 52.50\n",
            "Epoch: 12 |loss: 0.69329 | Acc: 52.62\n",
            "Epoch: 13 |loss: 0.69328 | Acc: 52.38\n",
            "Epoch: 14 |loss: 0.69326 | Acc: 52.38\n",
            "Epoch: 15 |loss: 0.69324 | Acc: 52.12\n",
            "Epoch: 16 |loss: 0.69323 | Acc: 51.88\n",
            "Epoch: 17 |loss: 0.69321 | Acc: 52.00\n",
            "Epoch: 18 |loss: 0.69320 | Acc: 51.88\n",
            "Epoch: 19 |loss: 0.69319 | Acc: 52.00\n",
            "Epoch: 20 |loss: 0.69318 | Acc: 52.12\n",
            "Epoch: 21 |loss: 0.69317 | Acc: 51.88\n",
            "Epoch: 22 |loss: 0.69316 | Acc: 52.00\n",
            "Epoch: 23 |loss: 0.69315 | Acc: 52.12\n",
            "Epoch: 24 |loss: 0.69314 | Acc: 52.12\n",
            "Epoch: 25 |loss: 0.69314 | Acc: 52.50\n",
            "Epoch: 26 |loss: 0.69313 | Acc: 52.25\n",
            "Epoch: 27 |loss: 0.69312 | Acc: 52.38\n",
            "Epoch: 28 |loss: 0.69312 | Acc: 52.38\n",
            "Epoch: 29 |loss: 0.69311 | Acc: 52.25\n",
            "Epoch: 30 |loss: 0.69311 | Acc: 52.00\n",
            "Epoch: 31 |loss: 0.69310 | Acc: 51.88\n",
            "Epoch: 32 |loss: 0.69310 | Acc: 51.75\n",
            "Epoch: 33 |loss: 0.69309 | Acc: 51.88\n",
            "Epoch: 34 |loss: 0.69309 | Acc: 52.00\n",
            "Epoch: 35 |loss: 0.69309 | Acc: 51.75\n",
            "Epoch: 36 |loss: 0.69308 | Acc: 51.75\n",
            "Epoch: 37 |loss: 0.69308 | Acc: 51.75\n",
            "Epoch: 38 |loss: 0.69308 | Acc: 51.88\n",
            "Epoch: 39 |loss: 0.69307 | Acc: 51.88\n",
            "Epoch: 40 |loss: 0.69307 | Acc: 51.88\n",
            "Epoch: 41 |loss: 0.69307 | Acc: 52.00\n",
            "Epoch: 42 |loss: 0.69307 | Acc: 51.88\n",
            "Epoch: 43 |loss: 0.69306 | Acc: 51.75\n",
            "Epoch: 44 |loss: 0.69306 | Acc: 51.75\n",
            "Epoch: 45 |loss: 0.69306 | Acc: 51.62\n",
            "Epoch: 46 |loss: 0.69306 | Acc: 51.75\n",
            "Epoch: 47 |loss: 0.69306 | Acc: 51.88\n",
            "Epoch: 48 |loss: 0.69305 | Acc: 51.62\n",
            "Epoch: 49 |loss: 0.69305 | Acc: 51.62\n",
            "Epoch: 50 |loss: 0.69305 | Acc: 51.38\n",
            "Epoch: 51 |loss: 0.69305 | Acc: 51.38\n",
            "Epoch: 52 |loss: 0.69305 | Acc: 51.50\n",
            "Epoch: 53 |loss: 0.69305 | Acc: 51.50\n",
            "Epoch: 54 |loss: 0.69304 | Acc: 51.50\n",
            "Epoch: 55 |loss: 0.69304 | Acc: 51.38\n",
            "Epoch: 56 |loss: 0.69304 | Acc: 51.38\n",
            "Epoch: 57 |loss: 0.69304 | Acc: 51.38\n",
            "Epoch: 58 |loss: 0.69304 | Acc: 51.50\n",
            "Epoch: 59 |loss: 0.69304 | Acc: 51.50\n",
            "Epoch: 60 |loss: 0.69304 | Acc: 51.75\n",
            "Epoch: 61 |loss: 0.69304 | Acc: 51.75\n",
            "Epoch: 62 |loss: 0.69303 | Acc: 51.75\n",
            "Epoch: 63 |loss: 0.69303 | Acc: 51.50\n",
            "Epoch: 64 |loss: 0.69303 | Acc: 51.62\n",
            "Epoch: 65 |loss: 0.69303 | Acc: 51.62\n",
            "Epoch: 66 |loss: 0.69303 | Acc: 51.50\n",
            "Epoch: 67 |loss: 0.69303 | Acc: 51.50\n",
            "Epoch: 68 |loss: 0.69303 | Acc: 51.50\n",
            "Epoch: 69 |loss: 0.69303 | Acc: 51.50\n",
            "Epoch: 70 |loss: 0.69303 | Acc: 51.38\n",
            "Epoch: 71 |loss: 0.69303 | Acc: 51.38\n",
            "Epoch: 72 |loss: 0.69302 | Acc: 51.25\n",
            "Epoch: 73 |loss: 0.69302 | Acc: 51.25\n",
            "Epoch: 74 |loss: 0.69302 | Acc: 51.25\n",
            "Epoch: 75 |loss: 0.69302 | Acc: 51.25\n",
            "Epoch: 76 |loss: 0.69302 | Acc: 51.38\n",
            "Epoch: 77 |loss: 0.69302 | Acc: 51.38\n",
            "Epoch: 78 |loss: 0.69302 | Acc: 51.38\n",
            "Epoch: 79 |loss: 0.69302 | Acc: 51.38\n",
            "Epoch: 80 |loss: 0.69302 | Acc: 51.38\n",
            "Epoch: 81 |loss: 0.69302 | Acc: 51.38\n",
            "Epoch: 82 |loss: 0.69302 | Acc: 51.38\n",
            "Epoch: 83 |loss: 0.69302 | Acc: 51.38\n",
            "Epoch: 84 |loss: 0.69302 | Acc: 51.38\n",
            "Epoch: 85 |loss: 0.69302 | Acc: 51.38\n",
            "Epoch: 86 |loss: 0.69301 | Acc: 51.50\n",
            "Epoch: 87 |loss: 0.69301 | Acc: 51.50\n",
            "Epoch: 88 |loss: 0.69301 | Acc: 51.38\n",
            "Epoch: 89 |loss: 0.69301 | Acc: 51.38\n",
            "Epoch: 90 |loss: 0.69301 | Acc: 51.38\n",
            "Epoch: 91 |loss: 0.69301 | Acc: 51.38\n",
            "Epoch: 92 |loss: 0.69301 | Acc: 51.38\n",
            "Epoch: 93 |loss: 0.69301 | Acc: 51.38\n",
            "Epoch: 94 |loss: 0.69301 | Acc: 51.38\n",
            "Epoch: 95 |loss: 0.69301 | Acc: 51.38\n",
            "Epoch: 96 |loss: 0.69301 | Acc: 51.38\n",
            "Epoch: 97 |loss: 0.69301 | Acc: 51.38\n",
            "Epoch: 98 |loss: 0.69301 | Acc: 51.38\n",
            "Epoch: 99 |loss: 0.69301 | Acc: 51.38\n"
          ]
        }
      ]
    },
    {
      "cell_type": "code",
      "source": [],
      "metadata": {
        "id": "fBNe1xK6JL8m"
      },
      "execution_count": 23,
      "outputs": []
    },
    {
      "cell_type": "code",
      "source": [
        "# build model with non-linear function"
      ],
      "metadata": {
        "id": "sHVSu7GTJL_z"
      },
      "execution_count": 24,
      "outputs": []
    },
    {
      "cell_type": "code",
      "source": [
        "from torch import nn\n",
        "class CircleModelv2(nn.Module):\n",
        "  def __init__(self):\n",
        "    super().__init__()\n",
        "    self.layer_1 = nn.Linear(in_features = 2, out_features = 10)\n",
        "    self.layer_2 = nn.Linear(in_features = 10, out_features = 10)\n",
        "    self.layer_3 = nn.Linear(in_features = 10, out_features = 1)\n",
        "    self.relu = nn.ReLU()\n",
        "\n",
        "  def forward(self, x):\n",
        "    return self.layer_3(self.relu(self.layer_2(self.relu(self.layer_1(x)))))\n",
        "\n",
        "\n",
        "model_3 = CircleModelv2().to(device)"
      ],
      "metadata": {
        "id": "5yUbtrNbJMDa"
      },
      "execution_count": 25,
      "outputs": []
    },
    {
      "cell_type": "code",
      "source": [],
      "metadata": {
        "id": "K3oIKL_5JMHA"
      },
      "execution_count": 25,
      "outputs": []
    },
    {
      "cell_type": "code",
      "source": [
        "loss_fn = nn.BCEWithLogitsLoss()\n",
        "optimizer = torch.optim.SGD(model_3.parameters(),\n",
        "                            lr = 0.1)"
      ],
      "metadata": {
        "id": "URuPfz-XJMMP"
      },
      "execution_count": 26,
      "outputs": []
    },
    {
      "cell_type": "code",
      "source": [
        "torch.manual_seed=42"
      ],
      "metadata": {
        "id": "vEfyLNUTKxut"
      },
      "execution_count": 27,
      "outputs": []
    },
    {
      "cell_type": "code",
      "source": [
        "x_train, y_train = x_train.to(device), y_train.to(device)\n",
        "x_test, y_test = x_test.to(device), y_test.to(device)\n",
        "\n",
        "epochs = 200\n",
        "\n",
        "for epoch in range(epochs):\n",
        "  model_3.train()\n",
        "\n",
        "  y_logits = model_3(x_train).squeeze()\n",
        "  y_pred = torch.round(torch.sigmoid(y_logits))\n",
        "\n",
        "  loss = loss_fn(y_logits, y_train)\n",
        "  acc = accuracy_fn(y_true = y_train,\n",
        "                    y_pred = y_pred)\n",
        "\n",
        "  optimizer.zero_grad()\n",
        "  loss.backward()\n",
        "\n",
        "  optimizer.step()\n",
        "\n",
        "  model_3.eval()\n",
        "  with torch.inference_mode():\n",
        "    test_logits = model_3(x_test).squeeze()\n",
        "    test_pred = torch.round(torch.sigmoid(test_logits))\n",
        "\n",
        "    test_loss = loss_fn(test_logits, y_test)\n",
        "    test_acc = accuracy_fn(y_true = y_test,\n",
        "                           y_pred = test_pred)\n",
        "    \n",
        "  if epoch % 10 == 0:\n",
        "    print(f\"Loss is: {loss:.4f} | test loss is: {test_loss:.4f} | accuracy: {acc:.3f}\")\n"
      ],
      "metadata": {
        "colab": {
          "base_uri": "https://localhost:8080/"
        },
        "id": "qlw5mVqIKx2D",
        "outputId": "e50ab67d-d9e5-41f9-bc3d-08c780b94948"
      },
      "execution_count": 28,
      "outputs": [
        {
          "output_type": "stream",
          "name": "stdout",
          "text": [
            "Loss is: 0.6916 | test loss is: 0.6916 | accuracy: 50.000\n",
            "Loss is: 0.6912 | test loss is: 0.6912 | accuracy: 50.000\n",
            "Loss is: 0.6908 | test loss is: 0.6909 | accuracy: 50.750\n",
            "Loss is: 0.6904 | test loss is: 0.6905 | accuracy: 52.875\n",
            "Loss is: 0.6901 | test loss is: 0.6904 | accuracy: 53.125\n",
            "Loss is: 0.6899 | test loss is: 0.6902 | accuracy: 53.125\n",
            "Loss is: 0.6896 | test loss is: 0.6900 | accuracy: 53.625\n",
            "Loss is: 0.6894 | test loss is: 0.6898 | accuracy: 54.625\n",
            "Loss is: 0.6891 | test loss is: 0.6896 | accuracy: 54.750\n",
            "Loss is: 0.6889 | test loss is: 0.6895 | accuracy: 55.625\n",
            "Loss is: 0.6886 | test loss is: 0.6893 | accuracy: 55.875\n",
            "Loss is: 0.6884 | test loss is: 0.6891 | accuracy: 56.000\n",
            "Loss is: 0.6881 | test loss is: 0.6889 | accuracy: 56.750\n",
            "Loss is: 0.6878 | test loss is: 0.6887 | accuracy: 57.125\n",
            "Loss is: 0.6875 | test loss is: 0.6886 | accuracy: 57.500\n",
            "Loss is: 0.6872 | test loss is: 0.6883 | accuracy: 57.750\n",
            "Loss is: 0.6869 | test loss is: 0.6881 | accuracy: 58.125\n",
            "Loss is: 0.6865 | test loss is: 0.6879 | accuracy: 58.250\n",
            "Loss is: 0.6862 | test loss is: 0.6877 | accuracy: 58.500\n",
            "Loss is: 0.6858 | test loss is: 0.6874 | accuracy: 59.000\n"
          ]
        }
      ]
    },
    {
      "cell_type": "code",
      "source": [],
      "metadata": {
        "id": "jFWkZn11Kx8H"
      },
      "execution_count": 28,
      "outputs": []
    },
    {
      "cell_type": "code",
      "source": [
        "# >>> x = torch.zeros(2, 1, 2, 1, 2)\n",
        "# >>> x.size()\n",
        "# torch.Size([2, 1, 2, 1, 2])\n",
        "# >>> y = torch.squeeze(x)\n",
        "# >>> y.size()\n",
        "# torch.Size([2, 2, 2])\n",
        "# >>> y = torch.squeeze(x, 0)\n",
        "# >>> y.size()\n",
        "# torch.Size([2, 1, 2, 1, 2])\n",
        "# >>> y = torch.squeeze(x, 1)\n",
        "# >>> y.size()\n",
        "# torch.Size([2, 2, 1, 2])"
      ],
      "metadata": {
        "id": "YpgPorA5KyCe"
      },
      "execution_count": 29,
      "outputs": []
    },
    {
      "cell_type": "code",
      "source": [
        "x = torch.zeros(2, 1, 2, 1, 2)"
      ],
      "metadata": {
        "id": "8DbcVSrLKyJp"
      },
      "execution_count": 30,
      "outputs": []
    },
    {
      "cell_type": "code",
      "source": [
        "x.squeeze()"
      ],
      "metadata": {
        "colab": {
          "base_uri": "https://localhost:8080/"
        },
        "id": "y5_rRJAZKyQ4",
        "outputId": "abf5d16b-bf87-4bad-9699-6984caf7751d"
      },
      "execution_count": 31,
      "outputs": [
        {
          "output_type": "execute_result",
          "data": {
            "text/plain": [
              "tensor([[[0., 0.],\n",
              "         [0., 0.]],\n",
              "\n",
              "        [[0., 0.],\n",
              "         [0., 0.]]])"
            ]
          },
          "metadata": {},
          "execution_count": 31
        }
      ]
    },
    {
      "cell_type": "code",
      "source": [
        "A = torch.arange(-10.0, 10.0, 1, dtype = torch.float32)\n",
        "A"
      ],
      "metadata": {
        "colab": {
          "base_uri": "https://localhost:8080/"
        },
        "id": "l8zdfrV8dMvr",
        "outputId": "4aa2c456-8a90-41d3-9ec9-a9d5b68a1cd5"
      },
      "execution_count": 32,
      "outputs": [
        {
          "output_type": "execute_result",
          "data": {
            "text/plain": [
              "tensor([-10.,  -9.,  -8.,  -7.,  -6.,  -5.,  -4.,  -3.,  -2.,  -1.,   0.,   1.,\n",
              "          2.,   3.,   4.,   5.,   6.,   7.,   8.,   9.])"
            ]
          },
          "metadata": {},
          "execution_count": 32
        }
      ]
    },
    {
      "cell_type": "code",
      "source": [
        "plt.plot(torch.relu(A))"
      ],
      "metadata": {
        "colab": {
          "base_uri": "https://localhost:8080/",
          "height": 282
        },
        "id": "DBcX-RL3dMsN",
        "outputId": "cb02c75f-06b6-4037-eb33-85ff07f7b990"
      },
      "execution_count": 33,
      "outputs": [
        {
          "output_type": "execute_result",
          "data": {
            "text/plain": [
              "[<matplotlib.lines.Line2D at 0x7fecc86bc5b0>]"
            ]
          },
          "metadata": {},
          "execution_count": 33
        },
        {
          "output_type": "display_data",
          "data": {
            "text/plain": [
              "<Figure size 432x288 with 1 Axes>"
            ],
            "image/png": "[encoded data removed]"
          },
          "metadata": {
            "needs_background": "light"
          }
        }
      ]
    },
    {
      "cell_type": "code",
      "source": [
        "def relu(x: torch.Tensor) -> torch.Tensor:\n",
        "  return torch.maximum(torch.tensor(0),x)\n",
        "\n",
        "relu(A)"
      ],
      "metadata": {
        "colab": {
          "base_uri": "https://localhost:8080/"
        },
        "id": "QZMGg6XSdMot",
        "outputId": "ecb572cb-177f-46c8-9ec7-c095308d8429"
      },
      "execution_count": 34,
      "outputs": [
        {
          "output_type": "execute_result",
          "data": {
            "text/plain": [
              "tensor([0., 0., 0., 0., 0., 0., 0., 0., 0., 0., 0., 1., 2., 3., 4., 5., 6., 7.,\n",
              "        8., 9.])"
            ]
          },
          "metadata": {},
          "execution_count": 34
        }
      ]
    },
    {
      "cell_type": "code",
      "source": [],
      "metadata": {
        "id": "Y2VtJE1BdMk6"
      },
      "execution_count": 34,
      "outputs": []
    },
    {
      "cell_type": "code",
      "source": [
        "# Multiclass classification"
      ],
      "metadata": {
        "id": "2xUP43L5dMfr"
      },
      "execution_count": 35,
      "outputs": []
    },
    {
      "cell_type": "code",
      "source": [
        "import torch\n",
        "import matplotlib.pyplot as plt\n",
        "from sklearn.datasets import make_blobs\n",
        "from sklearn.model_selection import train_test_split\n",
        "\n",
        "NUM_CLASSES = 4\n",
        "NUM_FEATURES = 2\n",
        "RANDOM_SEED = 42\n",
        "\n",
        "x_blob, y_blob = make_blobs(n_samples = 1000,\n",
        "                            n_features = NUM_FEATURES,\n",
        "                            centers = NUM_CLASSES,\n",
        "                            cluster_std = 1.5,\n",
        "                            random_state = RANDOM_SEED)\n",
        "\n",
        "x_blob = torch.from_numpy(x_blob).type(torch.float)\n",
        "y_blob = torch.from_numpy(y_blob).type(torch.LongTensor)\n",
        "\n",
        "x_blob_train, x_blob_test, y_blob_train, y_blob_test = train_test_split(x_blob, y_blob, test_size = 0.2, random_state=RANDOM_SEED)"
      ],
      "metadata": {
        "id": "FurpV5ENJMP2"
      },
      "execution_count": 81,
      "outputs": []
    },
    {
      "cell_type": "code",
      "source": [
        "plt.figure(figsize = (10, 7))\n",
        "plt.scatter(x_blob[:,0], x_blob[:,1],c=y_blob, cmap = plt.cm.RdYlBu)"
      ],
      "metadata": {
        "id": "y54WKS4LJMTj",
        "colab": {
          "base_uri": "https://localhost:8080/",
          "height": 445
        },
        "outputId": "69749893-d97d-4e69-bd70-4c14a1d9e332"
      },
      "execution_count": 82,
      "outputs": [
        {
          "output_type": "execute_result",
          "data": {
            "text/plain": [
              "<matplotlib.collections.PathCollection at 0x7fecc85d1b20>"
            ]
          },
          "metadata": {},
          "execution_count": 82
        },
        {
          "output_type": "display_data",
          "data": {
            "text/plain": [
              "<Figure size 720x504 with 1 Axes>"
            ],
            "image/png": "[encoded data removed]"
          },
          "metadata": {
            "needs_background": "light"
          }
        }
      ]
    },
    {
      "cell_type": "code",
      "source": [],
      "metadata": {
        "id": "NOqeuK2CJMZB"
      },
      "execution_count": 82,
      "outputs": []
    },
    {
      "cell_type": "code",
      "source": [
        "device = \"cuda\" if torch.cuda.is_available() else \"cpu\"\n",
        "device"
      ],
      "metadata": {
        "id": "zMW1_U3HJMhW",
        "colab": {
          "base_uri": "https://localhost:8080/",
          "height": 35
        },
        "outputId": "255dc130-4622-4bb1-8bc0-a0dbbb91c89c"
      },
      "execution_count": 83,
      "outputs": [
        {
          "output_type": "execute_result",
          "data": {
            "text/plain": [
              "'cpu'"
            ],
            "application/vnd.google.colaboratory.intrinsic+json": {
              "type": "string"
            }
          },
          "metadata": {},
          "execution_count": 83
        }
      ]
    },
    {
      "cell_type": "code",
      "source": [
        "class BlobModel(nn.Module):\n",
        "  def __init__(self, input_features, output_features, hidden_units = 8):\n",
        "    super().__init__()\n",
        "    self.linear_layer_stack = nn.Sequential(\n",
        "        nn.Linear(in_features = input_features, out_features = hidden_units),\n",
        "        # nn.ReLU(),\n",
        "        nn.Linear(in_features = hidden_units, out_features = hidden_units),\n",
        "        nn.Linear(in_features=hidden_units, out_features = output_features)\n",
        "    \n",
        "    )\n",
        "\n",
        "  def forward(self,x):\n",
        "    return self.linear_layer_stack(x)\n",
        "\n",
        "model_4 = BlobModel(input_features = 2,\n",
        "                    output_features = 4,\n",
        "                    hidden_units=8).to(device)"
      ],
      "metadata": {
        "id": "EB7X1SRFJMng"
      },
      "execution_count": 108,
      "outputs": []
    },
    {
      "cell_type": "code",
      "source": [
        "model_4"
      ],
      "metadata": {
        "id": "XaAicVQb7LHA",
        "colab": {
          "base_uri": "https://localhost:8080/"
        },
        "outputId": "4fd64420-8c11-4bb5-8c1f-5349acc1d0c4"
      },
      "execution_count": 109,
      "outputs": [
        {
          "output_type": "execute_result",
          "data": {
            "text/plain": [
              "BlobModel(\n",
              "  (linear_layer_stack): Sequential(\n",
              "    (0): Linear(in_features=2, out_features=8, bias=True)\n",
              "    (1): Linear(in_features=8, out_features=8, bias=True)\n",
              "    (2): Linear(in_features=8, out_features=4, bias=True)\n",
              "  )\n",
              ")"
            ]
          },
          "metadata": {},
          "execution_count": 109
        }
      ]
    },
    {
      "cell_type": "code",
      "source": [
        "loss_fn = nn.CrossEntropyLoss()\n",
        "optimizer = torch.optim.SGD(model_4.parameters(), lr = 0.1)"
      ],
      "metadata": {
        "id": "PexVPy3F7LJL"
      },
      "execution_count": 118,
      "outputs": []
    },
    {
      "cell_type": "code",
      "source": [
        "#model_4.eval()\n",
        "#with torch.inference_mode():\n",
        "#  y_logits = model_4(x_blob_test.to(device))\n",
        "\n",
        "#y_logits[:10]"
      ],
      "metadata": {
        "id": "NxlVb8Bvmy2n"
      },
      "execution_count": 111,
      "outputs": []
    },
    {
      "cell_type": "code",
      "source": [
        "import numpy as np\n",
        "def plot_decision_boundary(model: torch.nn.Module, X: torch.Tensor, y: torch.Tensor):\n",
        "    \"\"\"Plots decision boundaries of model predicting on X in comparison to y.\n",
        "    Source - https://madewithml.com/courses/foundations/neural-networks/ (with modifications)\n",
        "    \"\"\"\n",
        "    # Put everything to CPU (works better with NumPy + Matplotlib)\n",
        "    model.to(\"cpu\")\n",
        "    X, y = X.to(\"cpu\"), y.to(\"cpu\")\n",
        "\n",
        "    # Setup prediction boundaries and grid\n",
        "    x_min, x_max = X[:, 0].min() - 0.1, X[:, 0].max() + 0.1\n",
        "    y_min, y_max = X[:, 1].min() - 0.1, X[:, 1].max() + 0.1\n",
        "    xx, yy = np.meshgrid(np.linspace(x_min, x_max, 101), np.linspace(y_min, y_max, 101))\n",
        "\n",
        "    # Make features\n",
        "    X_to_pred_on = torch.from_numpy(np.column_stack((xx.ravel(), yy.ravel()))).float()\n",
        "\n",
        "    # Make predictions\n",
        "    model.eval()\n",
        "    with torch.inference_mode():\n",
        "        y_logits = model(X_to_pred_on)\n",
        "\n",
        "    # Test for multi-class or binary and adjust logits to prediction labels\n",
        "    if len(torch.unique(y)) > 2:\n",
        "        y_pred = torch.softmax(y_logits, dim=1).argmax(dim=1)  # mutli-class\n",
        "    else:\n",
        "        y_pred = torch.round(torch.sigmoid(y_logits))  # binary\n",
        "\n",
        "    # Reshape preds and plot\n",
        "    y_pred = y_pred.reshape(xx.shape).detach().numpy()\n",
        "    plt.contourf(xx, yy, y_pred, cmap=plt.cm.RdYlBu, alpha=0.7)\n",
        "    plt.scatter(X[:, 0], X[:, 1], c=y, s=40, cmap=plt.cm.RdYlBu)\n",
        "    plt.xlim(xx.min(), xx.max())\n",
        "    plt.ylim(yy.min(), yy.max())"
      ],
      "metadata": {
        "id": "LVrPIp2F6OGs"
      },
      "execution_count": 123,
      "outputs": []
    },
    {
      "cell_type": "code",
      "source": [
        "#y_pred_probs = torch.softmax(y_logits, dim = 1)"
      ],
      "metadata": {
        "id": "aDEvG7Elmy88"
      },
      "execution_count": 112,
      "outputs": []
    },
    {
      "cell_type": "code",
      "source": [
        "#y_preds = torch.argmax(y_pred_probs, dim = 1)"
      ],
      "metadata": {
        "id": "du3rEaBnmzA4"
      },
      "execution_count": 113,
      "outputs": []
    },
    {
      "cell_type": "code",
      "source": [
        "#y_preds.shape"
      ],
      "metadata": {
        "id": "SZWmBminmzFz"
      },
      "execution_count": 114,
      "outputs": []
    },
    {
      "cell_type": "code",
      "source": [
        "#y_blob_test.shape"
      ],
      "metadata": {
        "id": "s58Rxi51mzKp"
      },
      "execution_count": 115,
      "outputs": []
    },
    {
      "cell_type": "code",
      "source": [],
      "metadata": {
        "id": "qVELy_jwmzOn"
      },
      "execution_count": 115,
      "outputs": []
    },
    {
      "cell_type": "code",
      "source": [
        "torch.manual_seed = 42\n",
        "\n",
        "epochs = 100\n",
        "\n",
        "x_blob_train, y_blob_train = x_blob_train.to(device), y_blob_train.to(device)\n",
        "x_blob_test, y_blob_test = x_blob_test.to(device), y_blob_test.to(device)\n",
        "\n",
        "\n",
        "for epoch in range(epochs):\n",
        "  model_4.train()\n",
        "\n",
        "  y_logits = model_4(x_blob_train)\n",
        "  y_pred = torch.softmax(y_logits, dim = 1).argmax(dim = 1)\n",
        "\n",
        "  loss = loss_fn(y_logits, y_blob_train)\n",
        "  acc = accuracy_fn(y_true = y_blob_train,\n",
        "                    y_pred = y_pred)\n",
        "  optimizer.zero_grad()\n",
        "  loss.backward()\n",
        "  optimizer.step()\n",
        "\n",
        "  model_4.eval()\n",
        "  with torch.inference_mode():\n",
        "    test_logits = model_4(x_blob_test)\n",
        "    test_preds = torch.softmax(test_logits, dim=1).argmax(dim = 1)\n",
        "\n",
        "    test_loss = loss_fn(test_logits, y_blob_test)\n",
        "    test_acc = accuracy_fn(y_true = y_blob_test,\n",
        "                           y_pred = test_preds)\n",
        "    \n",
        "  if epoch % 10 == 0:\n",
        "    print(f\"epoch : {epoch} | loss | {loss:.4f} | accuracy {acc:.3f} | test loss {test_loss:.4}  | test accuracy {test_acc:.4f}\")"
      ],
      "metadata": {
        "id": "d5Ee-qXMmzW6",
        "colab": {
          "base_uri": "https://localhost:8080/"
        },
        "outputId": "c7f9f92f-c767-43f0-9f20-d8002773df17"
      },
      "execution_count": 120,
      "outputs": [
        {
          "output_type": "stream",
          "name": "stdout",
          "text": [
            "epoch : 0 | loss | 0.0313 | accuracy 99.250 | test loss 0.02279  | test accuracy 99.5000\n",
            "epoch : 10 | loss | 0.0303 | accuracy 99.250 | test loss 0.02155  | test accuracy 99.5000\n",
            "epoch : 20 | loss | 0.0294 | accuracy 99.250 | test loss 0.02054  | test accuracy 99.5000\n",
            "epoch : 30 | loss | 0.0287 | accuracy 99.250 | test loss 0.0197  | test accuracy 99.5000\n",
            "epoch : 40 | loss | 0.0281 | accuracy 99.250 | test loss 0.01898  | test accuracy 99.5000\n",
            "epoch : 50 | loss | 0.0276 | accuracy 99.250 | test loss 0.01837  | test accuracy 99.5000\n",
            "epoch : 60 | loss | 0.0272 | accuracy 99.250 | test loss 0.01784  | test accuracy 99.5000\n",
            "epoch : 70 | loss | 0.0268 | accuracy 99.250 | test loss 0.01738  | test accuracy 99.5000\n",
            "epoch : 80 | loss | 0.0265 | accuracy 99.250 | test loss 0.01697  | test accuracy 99.5000\n",
            "epoch : 90 | loss | 0.0262 | accuracy 99.250 | test loss 0.0166  | test accuracy 99.5000\n"
          ]
        }
      ]
    },
    {
      "cell_type": "code",
      "source": [
        "plt.figure(figsize = (12, 6))\n",
        "plt.subplot(1,2,1)\n",
        "plt.title(\"Train\")\n",
        "plot_decision_boundary(model_4, x_blob_train, y_blob_train)\n",
        "\n",
        "plt.subplot(1,2,2)\n",
        "plt.title(\"Test\")\n",
        "plot_decision_boundary(model_4, x_blob_test, y_blob_test)"
      ],
      "metadata": {
        "id": "22p48oOvmzbY",
        "colab": {
          "base_uri": "https://localhost:8080/"
        },
        "outputId": "7b7d8669-a7b8-44ef-b36e-132876c479e7"
      },
      "execution_count": 125,
      "outputs": [
        {
          "output_type": "display_data",
          "data": {
            "text/plain": [
              "<Figure size 864x432 with 2 Axes>"
            ],
            "image/png": "[encoded data removed]"
          },
          "metadata": {
            "needs_background": "light"
          }
        }
      ]
    },
    {
      "cell_type": "code",
      "source": [],
      "metadata": {
        "id": "e9hsNK-0mzgt"
      },
      "execution_count": 46,
      "outputs": []
    },
    {
      "cell_type": "code",
      "source": [],
      "metadata": {
        "id": "PxhEvg1Kmzqm"
      },
      "execution_count": 46,
      "outputs": []
    }
  ]
}