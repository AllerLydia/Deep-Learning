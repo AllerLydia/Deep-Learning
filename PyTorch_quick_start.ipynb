{
  "nbformat": 4,
  "nbformat_minor": 0,
  "metadata": {
    "colab": {
      "provenance": [],
      "authorship_tag": "ABX9TyOdrQwfAJ6soR25x7zebTb7",
      "include_colab_link": true
    },
    "kernelspec": {
      "name": "python3",
      "display_name": "Python 3"
    },
    "language_info": {
      "name": "python"
    }
  },
  "cells": [
    {
      "cell_type": "markdown",
      "metadata": {
        "id": "view-in-github",
        "colab_type": "text"
      },
      "source": [
        "<a href=\"https://colab.research.google.com/github/AllerLydia/Deep-Learning/blob/master/PyTorch_quick_start.ipynb\" target=\"_parent\"><img src=\"https://colab.research.google.com/assets/colab-badge.svg\" alt=\"Open In Colab\"/></a>"
      ]
    },
    {
      "cell_type": "code",
      "execution_count": 39,
      "metadata": {
        "id": "x6A2BtA6tagz"
      },
      "outputs": [],
      "source": [
        "import torch\n",
        "from torch import nn\n",
        "from torch.utils.data import DataLoader\n",
        "from torchvision import datasets\n",
        "from torchvision.transforms import ToTensor\n"
      ]
    },
    {
      "cell_type": "code",
      "source": [
        "training_data = datasets.FashionMNIST(\n",
        "    root = \"data\",\n",
        "    transform = ToTensor(),\n",
        "    train = True,\n",
        "    download=True\n",
        ")"
      ],
      "metadata": {
        "id": "DpCC2BXNttWO"
      },
      "execution_count": 40,
      "outputs": []
    },
    {
      "cell_type": "code",
      "source": [
        "test_data = datasets.FashionMNIST(\n",
        "    root = \"data\",\n",
        "    transform = ToTensor(),\n",
        "    train = False,\n",
        "    download = True\n",
        ")"
      ],
      "metadata": {
        "id": "flnz-pZEvayY"
      },
      "execution_count": 41,
      "outputs": []
    },
    {
      "cell_type": "code",
      "source": [
        "BATCH_SIZE = 64\n",
        "\n",
        "train_dataloader = DataLoader(training_data, batch_size = BATCH_SIZE, shuffle=True)\n",
        "test_dataloader = DataLoader(test_data, batch_size = BATCH_SIZE, shuffle=False)"
      ],
      "metadata": {
        "id": "yRPaIatMvnAc"
      },
      "execution_count": 42,
      "outputs": []
    },
    {
      "cell_type": "markdown",
      "source": [
        "##### Define data from customerized source"
      ],
      "metadata": {
        "id": "utgn2AuVv94g"
      }
    },
    {
      "cell_type": "code",
      "source": [
        "import os\n",
        "import pandas as pd\n",
        "from torchvision.io import read_image\n",
        "from torch.utils.data import Dataset"
      ],
      "metadata": {
        "id": "nnMKfqjz0Cns"
      },
      "execution_count": 43,
      "outputs": []
    },
    {
      "cell_type": "code",
      "source": [
        "class CustomImageDataset(Dataset):\n",
        "  def __init__(self, annotations_file, img_dir, transform = None, target_transform=None):\n",
        "    self.img_labels = pd.read_csv(annotations_file),\n",
        "    self.img_dir = img_dir,\n",
        "    self.transform = transform,\n",
        "    self.target_transform = target_transform\n",
        "\n",
        "  def __len__(self):\n",
        "    return len(self.img_label)\n",
        "\n",
        "  def __getitem__(self, idx):\n",
        "    img_path = os.path.join(self.img_dir, self.img_labels.iloc[idx,0])\n",
        "    image = read_image(img_path)\n",
        "    label = self.img_labels.iloc[idx,1]\n",
        "    if self.transform:\n",
        "      image = self.transform(image)\n",
        "    if self.target_transform:\n",
        "      label = self.target_transform(label)\n",
        "\n",
        "    return image, label\n"
      ],
      "metadata": {
        "id": "lVFzWJwd0pG6"
      },
      "execution_count": 44,
      "outputs": []
    },
    {
      "cell_type": "code",
      "source": [],
      "metadata": {
        "id": "4nHUH4hC2l-A"
      },
      "execution_count": 44,
      "outputs": []
    },
    {
      "cell_type": "markdown",
      "source": [
        "#####  Visulize dataset "
      ],
      "metadata": {
        "id": "CrwHztaXIRpI"
      }
    },
    {
      "cell_type": "code",
      "source": [
        "import matplotlib.pyplot as plt"
      ],
      "metadata": {
        "id": "PmYNv4b-7_8a"
      },
      "execution_count": 45,
      "outputs": []
    },
    {
      "cell_type": "code",
      "source": [
        "labels_map = {\n",
        "    0: \"T-Shirt\",\n",
        "    1: \"Trouser\",\n",
        "    2: \"Pullover\",\n",
        "    3: \"Dress\",\n",
        "    4: \"Coat\",\n",
        "    5: \"Sandal\",\n",
        "    6: \"Shirt\",\n",
        "    7: \"Sneaker\",\n",
        "    8: \"Bag\",\n",
        "    9: \"Ankle Boot\",\n",
        "}\n",
        "figure = plt.figure(figsize = (8, 8))\n",
        "\n",
        "cols, rows = 3, 3\n",
        "for i in range(1, cols * rows + 1):\n",
        "  sample_idx = torch.randint(len(training_data), size=(1, )).item()\n",
        "  img, label = training_data[sample_idx]\n",
        "  figure.add_subplot(rows, cols, i)\n",
        "  plt.title(labels_map[label])\n",
        "  plt.axis(\"off\")\n",
        "  plt.imshow(img.squeeze(), cmap = \"gray\")\n",
        "plt.show()"
      ],
      "metadata": {
        "id": "4B05MZCuIRtw",
        "colab": {
          "base_uri": "https://localhost:8080/",
          "height": 482
        },
        "outputId": "3b6336ff-cb1f-49aa-b9fc-0a7d8ccffe7f"
      },
      "execution_count": 46,
      "outputs": [
        {
          "output_type": "display_data",
          "data": {
            "text/plain": [
              "<Figure size 576x576 with 9 Axes>"
            ],
            "image/png": "[encoded data removed]"
          },
          "metadata": {
            "needs_background": "light"
          }
        }
      ]
    },
    {
      "cell_type": "code",
      "source": [
        "for X, y in test_dataloader:\n",
        "  print(f\"Shape of X [N, C, H, W]: {X.shape}\")\n",
        "  print(f\"Shape of y: {y.shape} {y.dtype}\")\n",
        "  break"
      ],
      "metadata": {
        "id": "kXpqgutDIR5V",
        "colab": {
          "base_uri": "https://localhost:8080/"
        },
        "outputId": "c65dc89b-62ef-4f95-8c23-8f0345eb5f44"
      },
      "execution_count": 47,
      "outputs": [
        {
          "output_type": "stream",
          "name": "stdout",
          "text": [
            "Shape of X [N, C, H, W]: torch.Size([64, 1, 28, 28])\n",
            "Shape of y: torch.Size([64]) torch.int64\n"
          ]
        }
      ]
    },
    {
      "cell_type": "code",
      "source": [],
      "metadata": {
        "id": "a3Wc2HlPISAi"
      },
      "execution_count": 47,
      "outputs": []
    },
    {
      "cell_type": "markdown",
      "source": [
        "##### creating model"
      ],
      "metadata": {
        "id": "GBPlYnpDISMC"
      }
    },
    {
      "cell_type": "code",
      "source": [
        "device = \"cuda\" if torch.cuda.is_available() else \"mps\" if torch.backends.mps.is_available() else \"cpu\""
      ],
      "metadata": {
        "id": "Uj-ADlghI5OL"
      },
      "execution_count": 48,
      "outputs": []
    },
    {
      "cell_type": "code",
      "source": [
        "device"
      ],
      "metadata": {
        "colab": {
          "base_uri": "https://localhost:8080/",
          "height": 35
        },
        "id": "v7ZX8Nz8_6mH",
        "outputId": "189c45f3-f701-40d6-b9f6-bb3d98a50d02"
      },
      "execution_count": 49,
      "outputs": [
        {
          "output_type": "execute_result",
          "data": {
            "text/plain": [
              "'cpu'"
            ],
            "application/vnd.google.colaboratory.intrinsic+json": {
              "type": "string"
            }
          },
          "metadata": {},
          "execution_count": 49
        }
      ]
    },
    {
      "cell_type": "code",
      "source": [
        "class NeuralNetwork(nn.Module):\n",
        "  def __init__(self):\n",
        "    super().__init__()\n",
        "    self.flatten = nn.Flatten()\n",
        "    self.linear_relu_stack = nn.Sequential(\n",
        "        nn.Linear(28*28, 512),\n",
        "        nn.ReLU(),\n",
        "        nn.Linear(512, 512),\n",
        "        nn.ReLU(),\n",
        "        nn.Linear(512, 10)\n",
        "    )\n",
        "\n",
        "  def forward(self, x):\n",
        "    x = self.flatten(x)\n",
        "    logits = self.linear_relu_stack(x)\n",
        "    return logits\n",
        "\n",
        "model = NeuralNetwork().to(device)\n",
        "model"
      ],
      "metadata": {
        "colab": {
          "base_uri": "https://localhost:8080/"
        },
        "id": "Xch3jQnW_6pO",
        "outputId": "1a2c4fde-24f5-4823-ac2e-cf4af339ada3"
      },
      "execution_count": 57,
      "outputs": [
        {
          "output_type": "execute_result",
          "data": {
            "text/plain": [
              "NeuralNetwork(\n",
              "  (flatten): Flatten(start_dim=1, end_dim=-1)\n",
              "  (linear_relu_stack): Sequential(\n",
              "    (0): Linear(in_features=784, out_features=512, bias=True)\n",
              "    (1): ReLU()\n",
              "    (2): Linear(in_features=512, out_features=512, bias=True)\n",
              "    (3): ReLU()\n",
              "    (4): Linear(in_features=512, out_features=10, bias=True)\n",
              "  )\n",
              ")"
            ]
          },
          "metadata": {},
          "execution_count": 57
        }
      ]
    },
    {
      "cell_type": "code",
      "source": [
        "loss_fn = nn.CrossEntropyLoss()\n",
        "optimizer = torch.optim.SGD(params = model.parameters(),\n",
        "                            lr = 0.1)"
      ],
      "metadata": {
        "id": "y1a3J9S__6si"
      },
      "execution_count": 58,
      "outputs": []
    },
    {
      "cell_type": "code",
      "source": [],
      "metadata": {
        "id": "d9mGqW5D_6xm"
      },
      "execution_count": 58,
      "outputs": []
    },
    {
      "cell_type": "code",
      "source": [
        "def train(dataloader, model, loss_fn, optimizer):\n",
        "  size = len(dataloader.dataset)\n",
        "  model.train()\n",
        "  for batch, (X, y) in enumerate(dataloader):\n",
        "    X, y = X.to(device), y.to(device)\n",
        "\n",
        "    pred = model(X)\n",
        "    loss = loss_fn(pred, y)\n",
        "\n",
        "    optimizer.zero_grad()\n",
        "    loss.backward()\n",
        "    optimizer.step()\n",
        "\n",
        "    if batch % 100 == 0:\n",
        "      loss, current = loss.item(), (batch + 1) * len(X)\n",
        "      print(f\"loss: {loss:>7f} | [{current:>5d} / {size: >5d}]\")"
      ],
      "metadata": {
        "id": "7angfJaX_64G"
      },
      "execution_count": 59,
      "outputs": []
    },
    {
      "cell_type": "code",
      "source": [],
      "metadata": {
        "id": "DZNfhhKg_69_"
      },
      "execution_count": 59,
      "outputs": []
    },
    {
      "cell_type": "code",
      "source": [
        "def test(dataloader, model, loss_fn):\n",
        "  size = len(dataloader.dataset)\n",
        "  num_batches = len(dataloader)\n",
        "  model.eval()\n",
        "  test_loss, correct = 0, 0\n",
        "  with torch.no_grad():\n",
        "    for X, y in dataloader:\n",
        "      X, y = X.to(device), y.to(device)\n",
        "      pred = model(X)\n",
        "      test_loss += loss_fn(pred, y).item()\n",
        "      correct += (pred.argmax(1) == y).type(torch.float).sum().item()\n",
        "\n",
        "    test_loss /= num_batches\n",
        "    correct /= size\n",
        "    print(f\"Test Error: \\n Accuracy: {(100*correct):>0.1f}%, Avg loss: {test_loss:>8f} \\n\")"
      ],
      "metadata": {
        "id": "s1PTR-M1_7B1"
      },
      "execution_count": 62,
      "outputs": []
    },
    {
      "cell_type": "code",
      "source": [],
      "metadata": {
        "id": "8vu2oWtO_7Gp"
      },
      "execution_count": 62,
      "outputs": []
    },
    {
      "cell_type": "code",
      "source": [
        "epochs = 5\n",
        "for t in range(epochs):\n",
        "  print(f\"Epoch {t+1} \\n-------------------------\")\n",
        "  train(train_dataloader, model, loss_fn, optimizer)\n",
        "  test(test_dataloader, model, loss_fn)\n",
        "print(\"Done!\")"
      ],
      "metadata": {
        "colab": {
          "base_uri": "https://localhost:8080/"
        },
        "id": "QoPvkRPA_7LL",
        "outputId": "d7dcf023-ab6b-48b7-e558-55bd684f8021"
      },
      "execution_count": 63,
      "outputs": [
        {
          "output_type": "stream",
          "name": "stdout",
          "text": [
            "Epoch 1 \n",
            "-------------------------\n",
            "loss: 0.306214 | [   64 / 60000]\n",
            "loss: 0.414678 | [ 6464 / 60000]\n",
            "loss: 0.498794 | [12864 / 60000]\n",
            "loss: 0.400171 | [19264 / 60000]\n",
            "loss: 0.180940 | [25664 / 60000]\n",
            "loss: 0.539912 | [32064 / 60000]\n",
            "loss: 0.383752 | [38464 / 60000]\n",
            "loss: 0.362338 | [44864 / 60000]\n",
            "loss: 0.407663 | [51264 / 60000]\n",
            "loss: 0.456717 | [57664 / 60000]\n",
            "Test Error: \n",
            " Accuracy: 83.3%, Avg loss: 0.451742 \n",
            "\n",
            "Epoch 2 \n",
            "-------------------------\n",
            "loss: 0.493942 | [   64 / 60000]\n",
            "loss: 0.301702 | [ 6464 / 60000]\n",
            "loss: 0.297263 | [12864 / 60000]\n",
            "loss: 0.315203 | [19264 / 60000]\n",
            "loss: 0.313504 | [25664 / 60000]\n",
            "loss: 0.487163 | [32064 / 60000]\n",
            "loss: 0.324142 | [38464 / 60000]\n",
            "loss: 0.358851 | [44864 / 60000]\n",
            "loss: 0.415054 | [51264 / 60000]\n",
            "loss: 0.285014 | [57664 / 60000]\n",
            "Test Error: \n",
            " Accuracy: 80.1%, Avg loss: 0.553438 \n",
            "\n",
            "Epoch 3 \n",
            "-------------------------\n",
            "loss: 0.361333 | [   64 / 60000]\n",
            "loss: 0.422107 | [ 6464 / 60000]\n",
            "loss: 0.406391 | [12864 / 60000]\n",
            "loss: 0.335848 | [19264 / 60000]\n",
            "loss: 0.398436 | [25664 / 60000]\n",
            "loss: 0.222632 | [32064 / 60000]\n",
            "loss: 0.467137 | [38464 / 60000]\n",
            "loss: 0.264639 | [44864 / 60000]\n",
            "loss: 0.451634 | [51264 / 60000]\n",
            "loss: 0.275079 | [57664 / 60000]\n",
            "Test Error: \n",
            " Accuracy: 85.3%, Avg loss: 0.394462 \n",
            "\n",
            "Epoch 4 \n",
            "-------------------------\n",
            "loss: 0.335956 | [   64 / 60000]\n",
            "loss: 0.388453 | [ 6464 / 60000]\n",
            "loss: 0.226394 | [12864 / 60000]\n",
            "loss: 0.313368 | [19264 / 60000]\n",
            "loss: 0.264056 | [25664 / 60000]\n",
            "loss: 0.211191 | [32064 / 60000]\n",
            "loss: 0.382300 | [38464 / 60000]\n",
            "loss: 0.377076 | [44864 / 60000]\n",
            "loss: 0.418180 | [51264 / 60000]\n",
            "loss: 0.326675 | [57664 / 60000]\n",
            "Test Error: \n",
            " Accuracy: 85.6%, Avg loss: 0.391242 \n",
            "\n",
            "Epoch 5 \n",
            "-------------------------\n",
            "loss: 0.215493 | [   64 / 60000]\n",
            "loss: 0.339443 | [ 6464 / 60000]\n",
            "loss: 0.375668 | [12864 / 60000]\n",
            "loss: 0.319072 | [19264 / 60000]\n",
            "loss: 0.302370 | [25664 / 60000]\n",
            "loss: 0.263362 | [32064 / 60000]\n",
            "loss: 0.280118 | [38464 / 60000]\n",
            "loss: 0.252281 | [44864 / 60000]\n",
            "loss: 0.239165 | [51264 / 60000]\n",
            "loss: 0.425079 | [57664 / 60000]\n",
            "Test Error: \n",
            " Accuracy: 86.0%, Avg loss: 0.386839 \n",
            "\n",
            "Done!\n"
          ]
        }
      ]
    },
    {
      "cell_type": "code",
      "source": [],
      "metadata": {
        "id": "FjRDtnhWI5Uc"
      },
      "execution_count": 52,
      "outputs": []
    },
    {
      "cell_type": "markdown",
      "source": [
        "##### Saving Models"
      ],
      "metadata": {
        "id": "WvlYrMR5I5ni"
      }
    },
    {
      "cell_type": "code",
      "source": [
        "torch.save(model.state_dict(), \"model.pth\")\n",
        "print(\"Saved PyTorch Model State to model.pth\")"
      ],
      "metadata": {
        "colab": {
          "base_uri": "https://localhost:8080/"
        },
        "id": "-SWHjCNZZQh8",
        "outputId": "43a41d06-3360-4f5f-c5b9-331e20c83d30"
      },
      "execution_count": 64,
      "outputs": [
        {
          "output_type": "stream",
          "name": "stdout",
          "text": [
            "Saved PyTorch Model State to model.pth\n"
          ]
        }
      ]
    },
    {
      "cell_type": "markdown",
      "source": [
        "##### Loading models"
      ],
      "metadata": {
        "id": "fRji8wZ3ZQlI"
      }
    },
    {
      "cell_type": "code",
      "source": [
        "model_loaded = NeuralNetwork()\n",
        "model_loaded.load_state_dict(torch.load(\"model.pth\"))"
      ],
      "metadata": {
        "colab": {
          "base_uri": "https://localhost:8080/"
        },
        "id": "mujfP0-HZQoQ",
        "outputId": "c7a1f57c-e640-4cc0-a53b-71edf0abb6cb"
      },
      "execution_count": 65,
      "outputs": [
        {
          "output_type": "execute_result",
          "data": {
            "text/plain": [
              "<All keys matched successfully>"
            ]
          },
          "metadata": {},
          "execution_count": 65
        }
      ]
    },
    {
      "cell_type": "code",
      "source": [
        "classes = [\n",
        "    \"T-shirt/top\",\n",
        "    \"Trouser\",\n",
        "    \"Pullover\",\n",
        "    \"Dress\",\n",
        "    \"Coat\",\n",
        "    \"Sandal\",\n",
        "    \"Shirt\",\n",
        "    \"Sneaker\",\n",
        "    \"Bag\",\n",
        "    \"Ankle boot\",\n",
        "]\n",
        "\n",
        "model_loaded.eval()\n",
        "x, y = test_data[0][0], test_data[0][1]\n",
        "with torch.no_grad():\n",
        "  pred = model_loaded(x)\n",
        "  predicted, actual = classes[pred[0].argmax(0)], classes[y]\n",
        "  print(f'Predicted: \"{predicted}\", Actual: \"{actual}\"')\n"
      ],
      "metadata": {
        "colab": {
          "base_uri": "https://localhost:8080/"
        },
        "id": "qu-_XWHnZQrN",
        "outputId": "a73696c6-161e-4f8c-e3bf-912daba717ee"
      },
      "execution_count": 68,
      "outputs": [
        {
          "output_type": "stream",
          "name": "stdout",
          "text": [
            "Predicted: \"Ankle boot\", Actual: \"Ankle boot\"\n"
          ]
        }
      ]
    },
    {
      "cell_type": "code",
      "source": [
        "test_data[0][0].shape"
      ],
      "metadata": {
        "colab": {
          "base_uri": "https://localhost:8080/"
        },
        "id": "cuugS3LlZQvw",
        "outputId": "61bf33a4-85d0-4882-ef9f-13bcfdcabdf6"
      },
      "execution_count": 80,
      "outputs": [
        {
          "output_type": "execute_result",
          "data": {
            "text/plain": [
              "torch.Size([1, 28, 28])"
            ]
          },
          "metadata": {},
          "execution_count": 80
        }
      ]
    },
    {
      "cell_type": "code",
      "source": [
        "model_loaded(x)[0].argmax(0)"
      ],
      "metadata": {
        "colab": {
          "base_uri": "https://localhost:8080/"
        },
        "id": "3SfkOxVRZQzg",
        "outputId": "b23033e9-c58b-4e77-d790-fe6f1b76b8ac"
      },
      "execution_count": 87,
      "outputs": [
        {
          "output_type": "execute_result",
          "data": {
            "text/plain": [
              "tensor(9)"
            ]
          },
          "metadata": {},
          "execution_count": 87
        }
      ]
    },
    {
      "cell_type": "code",
      "source": [
        "import numpy as np    \n",
        "A = np.matrix([[1,2,3,33],[4,5,6,66],[7,8,9,99]])\n"
      ],
      "metadata": {
        "id": "prxiSVmGZQ2v"
      },
      "execution_count": 88,
      "outputs": []
    },
    {
      "cell_type": "code",
      "source": [
        "A[1:,2]"
      ],
      "metadata": {
        "colab": {
          "base_uri": "https://localhost:8080/"
        },
        "id": "eJoMtSQ3ZQ7N",
        "outputId": "ec4069f6-6ccc-4a4a-b2ec-6200f2cafa30"
      },
      "execution_count": 95,
      "outputs": [
        {
          "output_type": "execute_result",
          "data": {
            "text/plain": [
              "matrix([[6],\n",
              "        [9]])"
            ]
          },
          "metadata": {},
          "execution_count": 95
        }
      ]
    },
    {
      "cell_type": "code",
      "source": [],
      "metadata": {
        "id": "FQEmWgh0ZRCL"
      },
      "execution_count": null,
      "outputs": []
    },
    {
      "cell_type": "code",
      "source": [],
      "metadata": {
        "id": "ljPbNEXhZRJj"
      },
      "execution_count": null,
      "outputs": []
    },
    {
      "cell_type": "code",
      "source": [],
      "metadata": {
        "id": "AAL6gvrpZROy"
      },
      "execution_count": null,
      "outputs": []
    },
    {
      "cell_type": "code",
      "source": [],
      "metadata": {
        "id": "xUyRJbA8ZRbQ"
      },
      "execution_count": null,
      "outputs": []
    },
    {
      "cell_type": "code",
      "source": [],
      "metadata": {
        "id": "01hF7LAdI5tm"
      },
      "execution_count": 52,
      "outputs": []
    },
    {
      "cell_type": "code",
      "source": [],
      "metadata": {
        "id": "jP_6D0vMI58o"
      },
      "execution_count": 52,
      "outputs": []
    }
  ]
}